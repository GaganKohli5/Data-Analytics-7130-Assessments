{
  "cells": [
    {
      "cell_type": "markdown",
      "metadata": {
        "id": "WzqshGXGWMB1"
      },
      "source": [
        "# Recommendation - Model 🍿"
      ]
    },
    {
      "cell_type": "code",
      "source": [
        "pip install lightfm"
      ],
      "metadata": {
        "colab": {
          "base_uri": "https://localhost:8080/"
        },
        "id": "OCoKBoceWdpg",
        "outputId": "4c7cc152-c45c-4d51-d738-024cfbf1e342"
      },
      "execution_count": 2,
      "outputs": [
        {
          "output_type": "stream",
          "name": "stdout",
          "text": [
            "Collecting lightfm\n",
            "  Downloading lightfm-1.17.tar.gz (316 kB)\n",
            "\u001b[?25l     \u001b[90m━━━━━━━━━━━━━━━━━━━━━━━━━━━━━━━━━━━━━━━━\u001b[0m \u001b[32m0.0/316.4 kB\u001b[0m \u001b[31m?\u001b[0m eta \u001b[36m-:--:--\u001b[0m\r\u001b[2K     \u001b[91m━━━━━━━━━━━━━━━━━━━━━━━━━━━━\u001b[0m\u001b[90m╺\u001b[0m\u001b[90m━━━━━━━━━━━\u001b[0m \u001b[32m225.3/316.4 kB\u001b[0m \u001b[31m6.7 MB/s\u001b[0m eta \u001b[36m0:00:01\u001b[0m\r\u001b[2K     \u001b[90m━━━━━━━━━━━━━━━━━━━━━━━━━━━━━━━━━━━━━━━━\u001b[0m \u001b[32m316.4/316.4 kB\u001b[0m \u001b[31m7.0 MB/s\u001b[0m eta \u001b[36m0:00:00\u001b[0m\n",
            "\u001b[?25h  Preparing metadata (setup.py) ... \u001b[?25l\u001b[?25hdone\n",
            "Requirement already satisfied: numpy in /usr/local/lib/python3.10/dist-packages (from lightfm) (1.25.2)\n",
            "Requirement already satisfied: scipy>=0.17.0 in /usr/local/lib/python3.10/dist-packages (from lightfm) (1.11.4)\n",
            "Requirement already satisfied: requests in /usr/local/lib/python3.10/dist-packages (from lightfm) (2.31.0)\n",
            "Requirement already satisfied: scikit-learn in /usr/local/lib/python3.10/dist-packages (from lightfm) (1.2.2)\n",
            "Requirement already satisfied: charset-normalizer<4,>=2 in /usr/local/lib/python3.10/dist-packages (from requests->lightfm) (3.3.2)\n",
            "Requirement already satisfied: idna<4,>=2.5 in /usr/local/lib/python3.10/dist-packages (from requests->lightfm) (3.7)\n",
            "Requirement already satisfied: urllib3<3,>=1.21.1 in /usr/local/lib/python3.10/dist-packages (from requests->lightfm) (2.0.7)\n",
            "Requirement already satisfied: certifi>=2017.4.17 in /usr/local/lib/python3.10/dist-packages (from requests->lightfm) (2024.2.2)\n",
            "Requirement already satisfied: joblib>=1.1.1 in /usr/local/lib/python3.10/dist-packages (from scikit-learn->lightfm) (1.4.2)\n",
            "Requirement already satisfied: threadpoolctl>=2.0.0 in /usr/local/lib/python3.10/dist-packages (from scikit-learn->lightfm) (3.5.0)\n",
            "Building wheels for collected packages: lightfm\n",
            "  Building wheel for lightfm (setup.py) ... \u001b[?25l\u001b[?25hdone\n",
            "  Created wheel for lightfm: filename=lightfm-1.17-cp310-cp310-linux_x86_64.whl size=808332 sha256=962c55ced1c9bf508262fcb39456f8fe43a6adfe2389498050703978c58314f8\n",
            "  Stored in directory: /root/.cache/pip/wheels/4f/9b/7e/0b256f2168511d8fa4dae4fae0200fdbd729eb424a912ad636\n",
            "Successfully built lightfm\n",
            "Installing collected packages: lightfm\n",
            "Successfully installed lightfm-1.17\n"
          ]
        }
      ]
    },
    {
      "cell_type": "markdown",
      "metadata": {
        "id": "gkYQ-WthWMB4"
      },
      "source": [
        "---"
      ]
    },
    {
      "cell_type": "markdown",
      "metadata": {
        "id": "v8IAmJVIWMB4"
      },
      "source": [
        "<img src=\"https://visithrastnik.si/uploads/tic/public/generic_list_item/6-kulturna_prireditev_v_avli_kulturnega_centra_zagorje_ob_savi.jpg\" />"
      ]
    },
    {
      "cell_type": "markdown",
      "metadata": {
        "id": "NjIP1IYlWMB5"
      },
      "source": [
        "---"
      ]
    },
    {
      "cell_type": "markdown",
      "metadata": {
        "id": "qCTSvB60WMB5"
      },
      "source": [
        "Now, time for the exciting part! We will train a Machine Learning model based on our previous **ratings** sparse matrix, so that it creates a recommendation engine automatically!"
      ]
    },
    {
      "cell_type": "markdown",
      "metadata": {
        "id": "dO8EJWRhWMB6"
      },
      "source": [
        "First, load again the dataframe `movies` and `ratings`"
      ]
    },
    {
      "cell_type": "code",
      "execution_count": 3,
      "metadata": {
        "colab": {
          "base_uri": "https://localhost:8080/"
        },
        "id": "xJINPMy-WMB6",
        "outputId": "d75ac279-1f31-43e9-96a5-fd4feebe84d5"
      },
      "outputs": [
        {
          "output_type": "stream",
          "name": "stdout",
          "text": [
            "   movieId                               title  \\\n",
            "0        1                    Toy Story (1995)   \n",
            "1        2                      Jumanji (1995)   \n",
            "2        3             Grumpier Old Men (1995)   \n",
            "3        4            Waiting to Exhale (1995)   \n",
            "4        5  Father of the Bride Part II (1995)   \n",
            "\n",
            "                                        genres  \n",
            "0  Adventure|Animation|Children|Comedy|Fantasy  \n",
            "1                   Adventure|Children|Fantasy  \n",
            "2                               Comedy|Romance  \n",
            "3                         Comedy|Drama|Romance  \n",
            "4                                       Comedy  \n",
            "   userId  movieId  rating  timestamp\n",
            "0       1        1     4.0  964982703\n",
            "1       1        3     4.0  964981247\n",
            "2       1        6     4.0  964982224\n",
            "3       1       47     5.0  964983815\n",
            "4       1       50     5.0  964982931\n"
          ]
        }
      ],
      "source": [
        "### TODO: load the movies and ratings datasets\n",
        "\n",
        "import pandas as pd\n",
        "movies = pd.read_csv('movies.csv')\n",
        "ratings = pd.read_csv('ratings.csv')\n",
        "\n",
        "print(movies.head())\n",
        "print(ratings.head())"
      ]
    },
    {
      "cell_type": "markdown",
      "metadata": {
        "id": "m6x4Zm7NWMB8"
      },
      "source": [
        "**Q1**. Start by loading all the pickle you saved during last challenge: `ratings_matrix`, `idx_to_mid`, `mid_to_idx`, `uid_to_idx`, `idx_to_uid`"
      ]
    },
    {
      "cell_type": "code",
      "execution_count": 5,
      "metadata": {
        "id": "X_lLIFiTWMB8"
      },
      "outputs": [],
      "source": [
        "import pickle\n",
        "ratings_matrix = pickle.load(open('ratings_matrix.pkl', 'rb'))\n",
        "idx_to_mid = pickle.load(open('idx_to_mid.pkl', 'rb'))\n",
        "mid_to_idx = pickle.load(open('mid_to_idx.pkl', 'rb'))\n",
        "uid_to_idx = pickle.load(open('uid_to_idx.pkl', 'rb'))\n",
        "idx_to_uid = pickle.load(open('idx_to_uid.pkl', 'rb'))"
      ]
    },
    {
      "cell_type": "markdown",
      "metadata": {
        "id": "t92LyXbfWMB8"
      },
      "source": [
        "**Q2**. Because the dataset is slightly different from what we have been used to (X as features, y as target), the usual `train_test_split` method from scikit-learn does not apply.\n",
        "\n",
        "Hopefully, `lightfm` comes with a `random_train_test_split` located into `cross_validation` dedicated to this usecase 🙂\n",
        "\n",
        "Split the data randomly into a `train` matrix and a `test` matrix with 20% of interactions into the test set."
      ]
    },
    {
      "cell_type": "code",
      "execution_count": 7,
      "metadata": {
        "id": "11aHcydnWMB9"
      },
      "outputs": [],
      "source": [
        "import numpy as np\n",
        "\n",
        "from lightfm.cross_validation import random_train_test_split\n",
        "\n",
        "train, test = random_train_test_split(ratings_matrix, test_percentage=0.2, random_state=np.random.RandomState(0))"
      ]
    },
    {
      "cell_type": "markdown",
      "metadata": {
        "id": "bJFnfh2dWMB9"
      },
      "source": [
        "**Q3**. Train a LightFM model for 10 epochs. You can use the parameter `loss=\"warp\"`."
      ]
    },
    {
      "cell_type": "code",
      "execution_count": 8,
      "metadata": {
        "scrolled": true,
        "colab": {
          "base_uri": "https://localhost:8080/"
        },
        "id": "hKiUoqzuWMB-",
        "outputId": "2865fe50-5a10-4659-f854-791a4face589"
      },
      "outputs": [
        {
          "output_type": "stream",
          "name": "stderr",
          "text": [
            "Epoch: 100%|██████████| 10/10 [00:03<00:00,  3.09it/s]\n"
          ]
        },
        {
          "output_type": "execute_result",
          "data": {
            "text/plain": [
              "<lightfm.lightfm.LightFM at 0x7983913665f0>"
            ]
          },
          "metadata": {},
          "execution_count": 8
        }
      ],
      "source": [
        "from lightfm import LightFM\n",
        "\n",
        "model = LightFM(no_components=100, loss=\"warp\", random_state=0)\n",
        "\n",
        "model.fit(train, epochs=10, verbose=True)"
      ]
    },
    {
      "cell_type": "markdown",
      "metadata": {
        "id": "kiYpEJUVWMB-"
      },
      "source": [
        "**Q4**. Evaluate your model on your test set. You can use the `precision_at_k` metric implemented in the LightFM library."
      ]
    },
    {
      "cell_type": "code",
      "execution_count": 10,
      "metadata": {
        "colab": {
          "base_uri": "https://localhost:8080/"
        },
        "id": "q_yjEVNTWMB_",
        "outputId": "3d417778-5e82-411d-9f7c-fb17c7244b19"
      },
      "outputs": [
        {
          "output_type": "stream",
          "name": "stdout",
          "text": [
            "Precision at k: 5 is 0.29261085\n"
          ]
        }
      ],
      "source": [
        "from lightfm.evaluation import precision_at_k\n",
        "\n",
        "k = 5\n",
        "precision_k = precision_at_k(model, test, train, k=k).mean()\n",
        "\n",
        "print(\"Precision at k:\", k, \"is\", precision_k)"
      ]
    },
    {
      "cell_type": "markdown",
      "metadata": {
        "id": "gzQfnu-1WMB_"
      },
      "source": [
        "**Q5**. What does the attribute `item_embeddings` of `model` contains?  This will be the heart of your recommendation engine! 💟 So make sure you understand fully what it contains."
      ]
    },
    {
      "cell_type": "code",
      "execution_count": 11,
      "metadata": {
        "colab": {
          "base_uri": "https://localhost:8080/"
        },
        "id": "NZt8z8vQWMB_",
        "outputId": "0b7988dd-8d01-48ed-a035-ed691c88f05e"
      },
      "outputs": [
        {
          "output_type": "stream",
          "name": "stdout",
          "text": [
            "(3650, 100)\n"
          ]
        }
      ],
      "source": [
        "print(model.item_embeddings.shape)"
      ]
    },
    {
      "cell_type": "markdown",
      "metadata": {
        "id": "YYSp_l8PWMB_"
      },
      "source": [
        "**Q6**. We just trained a model that factorized our ratings matrix into a U matrix of shape (n_users, no_components) : `model.user_embeddings` ; and V matrix of shape (n_movies, no_components) : `model.item_embeddings`).\n",
        "\n",
        "Now we want to compute **similarity between each pair of movies**.\n",
        "\n",
        "> 🔦 **Hint**: For the similarity distance we can either use `cosine_similarity` function or `pearson_similarity`:\n",
        "> - **Cosine similarity** between two vectors, or matrices X and Y is given by:\n",
        "> ``` python\n",
        "> from sklearn.metrics.pairwise import cosine_similarity\n",
        "> cosine_similarity(X, Y)\n",
        "> ```\n",
        "> - **Pearson similarity** between two vectors, or matrices X and Y is given by:\n",
        "> ``` python\n",
        "> import numpy as np\n",
        "> np.corrcoef(X, Y)\n",
        "> ```\n",
        "\n",
        "Compute the `similarity_scores` of size (n_movies, n_movies), containing for each element (i, j) the similarity between movie of index i and movie of index j."
      ]
    },
    {
      "cell_type": "code",
      "execution_count": 12,
      "metadata": {
        "colab": {
          "base_uri": "https://localhost:8080/"
        },
        "id": "d1ujgZmFWMCA",
        "outputId": "ca2e3359-0758-4b56-dd6b-3ae9e59a012b"
      },
      "outputs": [
        {
          "output_type": "execute_result",
          "data": {
            "text/plain": [
              "array([[ 0.9999996 ,  0.13317415,  0.24826698, ..., -0.42391142,\n",
              "         0.04463575, -0.40535694],\n",
              "       [ 0.13317415,  0.9999999 ,  0.1236582 , ..., -0.156093  ,\n",
              "        -0.31249687,  0.03511212],\n",
              "       [ 0.24826698,  0.1236582 ,  1.0000002 , ..., -0.28943077,\n",
              "        -0.33148974,  0.12372942],\n",
              "       ...,\n",
              "       [-0.42391142, -0.156093  , -0.28943077, ...,  0.99999994,\n",
              "         0.56635493,  0.13436124],\n",
              "       [ 0.04463575, -0.31249687, -0.33148974, ...,  0.56635493,\n",
              "         0.99999994, -0.2925488 ],\n",
              "       [-0.40535694,  0.03511212,  0.12372942, ...,  0.13436124,\n",
              "        -0.2925488 ,  0.99999994]], dtype=float32)"
            ]
          },
          "metadata": {},
          "execution_count": 12
        }
      ],
      "source": [
        "from sklearn.metrics.pairwise import cosine_similarity\n",
        "\n",
        "similarity_scores = cosine_similarity(model.item_embeddings)\n",
        "similarity_scores"
      ]
    },
    {
      "cell_type": "markdown",
      "metadata": {
        "id": "K-z_m7gPWMCA"
      },
      "source": [
        "**Q7**. For movie of idx 20, what are the idx of the 10 most similar movies?"
      ]
    },
    {
      "cell_type": "code",
      "execution_count": 13,
      "metadata": {
        "colab": {
          "base_uri": "https://localhost:8080/"
        },
        "id": "VPBTBtioWMCA",
        "outputId": "618447c5-47fe-4426-b647-fdb0db15cb74"
      },
      "outputs": [
        {
          "output_type": "stream",
          "name": "stdout",
          "text": [
            "314    Forrest Gump (1994)\n",
            "Name: title, dtype: object\n",
            "510    Silence of the Lambs, The (1991)\n",
            "Name: title, dtype: object\n",
            "0    Toy Story (1995)\n",
            "Name: title, dtype: object\n",
            "277    Shawshank Redemption, The (1994)\n",
            "Name: title, dtype: object\n",
            "1284    Good Will Hunting (1997)\n",
            "Name: title, dtype: object\n",
            "506    Aladdin (1992)\n",
            "Name: title, dtype: object\n",
            "257    Pulp Fiction (1994)\n",
            "Name: title, dtype: object\n",
            "1503    Saving Private Ryan (1998)\n",
            "Name: title, dtype: object\n",
            "505    Ghost (1990)\n",
            "Name: title, dtype: object\n",
            "990    Indiana Jones and the Last Crusade (1989)\n",
            "Name: title, dtype: object\n"
          ]
        }
      ],
      "source": [
        "idx = 20\n",
        "similarity_idx = similarity_scores[idx]\n",
        "ranked_idx = np.argsort(-similarity_idx)\n",
        "ranked_mid = [idx_to_mid[x] for x in ranked_idx]\n",
        "for mid in ranked_mid[:10]:\n",
        "  print(movies[movies.movieId == mid][\"title\"])"
      ]
    },
    {
      "cell_type": "markdown",
      "metadata": {
        "id": "DeFfgAfzWMCA"
      },
      "source": [
        "**Q8**. Let's now test our engine! Suppose we have an user that likes **Toy Story** 🧸 (movie_id = 1). Which movies would you recommend to that user? In other words, which movies are the most similar to the movie Toy Story\n",
        "\n",
        "> ⚠️ **Warning**: Remember that your `similarity_scores` works with `idx` and you have the `movie_id` associated to your movie.\n",
        "\n",
        "Retrieve the **top 5 recommendations**."
      ]
    },
    {
      "cell_type": "code",
      "execution_count": 15,
      "metadata": {
        "colab": {
          "base_uri": "https://localhost:8080/"
        },
        "id": "EqwbkTIxWMCB",
        "outputId": "411d9e85-32b8-4b2b-8902-cc42cf87d848"
      },
      "outputs": [
        {
          "output_type": "stream",
          "name": "stdout",
          "text": [
            "0    Toy Story (1995)\n",
            "Name: title, dtype: object\n",
            "314    Forrest Gump (1994)\n",
            "Name: title, dtype: object\n",
            "224    Star Wars: Episode IV - A New Hope (1977)\n",
            "Name: title, dtype: object\n",
            "506    Aladdin (1992)\n",
            "Name: title, dtype: object\n",
            "1757    Bug's Life, A (1998)\n",
            "Name: title, dtype: object\n"
          ]
        }
      ],
      "source": [
        "idx = mid_to_idx[1]\n",
        "similarity_idx = similarity_scores[idx]\n",
        "ranked_idx = np.argsort(-similarity_idx)\n",
        "ranked_mid = [idx_to_mid[x] for x in ranked_idx]\n",
        "for mid in ranked_mid[:5]:\n",
        "  print(movies[movies.movieId == mid][\"title\"])"
      ]
    },
    {
      "cell_type": "markdown",
      "metadata": {
        "id": "vWoatKedWMCB"
      },
      "source": [
        "As the next step is to **deploy your model**, you need now to:\n",
        "\n",
        "**Q9**. Save your `similarity_scores` into pickle format. Save also `movies` DataFrame into pickle format. Save them at the `data/netflix` directory at the root of the repository."
      ]
    },
    {
      "cell_type": "code",
      "execution_count": 19,
      "metadata": {
        "id": "BH8IRSg6WMCB"
      },
      "outputs": [],
      "source": [
        "directory = \"./data\"\n"
      ]
    },
    {
      "cell_type": "code",
      "source": [
        "pickle.dump(similarity_scores, open(directory + \"/similarity_scores.pkl\", \"wb\"))\n",
        "pickle.dump(movies, open(directory + \"/movies.pkl\", \"wb\"))"
      ],
      "metadata": {
        "colab": {
          "base_uri": "https://localhost:8080/",
          "height": 162
        },
        "id": "86cH68PNgWzz",
        "outputId": "e837d701-3649-4df6-ba1a-bed251e1956a"
      },
      "execution_count": 20,
      "outputs": [
        {
          "output_type": "error",
          "ename": "FileNotFoundError",
          "evalue": "[Errno 2] No such file or directory: './data/similarity_scores.pkl'",
          "traceback": [
            "\u001b[0;31m---------------------------------------------------------------------------\u001b[0m",
            "\u001b[0;31mFileNotFoundError\u001b[0m                         Traceback (most recent call last)",
            "\u001b[0;32m<ipython-input-20-e26239a9b5e9>\u001b[0m in \u001b[0;36m<cell line: 1>\u001b[0;34m()\u001b[0m\n\u001b[0;32m----> 1\u001b[0;31m \u001b[0mpickle\u001b[0m\u001b[0;34m.\u001b[0m\u001b[0mdump\u001b[0m\u001b[0;34m(\u001b[0m\u001b[0msimilarity_scores\u001b[0m\u001b[0;34m,\u001b[0m \u001b[0mopen\u001b[0m\u001b[0;34m(\u001b[0m\u001b[0mdirectory\u001b[0m \u001b[0;34m+\u001b[0m \u001b[0;34m\"/similarity_scores.pkl\"\u001b[0m\u001b[0;34m,\u001b[0m \u001b[0;34m\"wb\"\u001b[0m\u001b[0;34m)\u001b[0m\u001b[0;34m)\u001b[0m\u001b[0;34m\u001b[0m\u001b[0;34m\u001b[0m\u001b[0m\n\u001b[0m\u001b[1;32m      2\u001b[0m \u001b[0mpickle\u001b[0m\u001b[0;34m.\u001b[0m\u001b[0mdump\u001b[0m\u001b[0;34m(\u001b[0m\u001b[0mmovies\u001b[0m\u001b[0;34m,\u001b[0m \u001b[0mopen\u001b[0m\u001b[0;34m(\u001b[0m\u001b[0mdirectory\u001b[0m \u001b[0;34m+\u001b[0m \u001b[0;34m\"/movies.pkl\"\u001b[0m\u001b[0;34m,\u001b[0m \u001b[0;34m\"wb\"\u001b[0m\u001b[0;34m)\u001b[0m\u001b[0;34m)\u001b[0m\u001b[0;34m\u001b[0m\u001b[0;34m\u001b[0m\u001b[0m\n",
            "\u001b[0;31mFileNotFoundError\u001b[0m: [Errno 2] No such file or directory: './data/similarity_scores.pkl'"
          ]
        }
      ]
    },
    {
      "cell_type": "markdown",
      "metadata": {
        "id": "fDcbgok4WMCB"
      },
      "source": [
        "**Q10**. Encapsulate the previous code into functions, especially you will need:\n",
        "- `get_sim_scores(mid)` function that returns the vector of the similarity scores `sims` between a movie `mid` and all the other movies\n",
        "- `get_ranked_recos(sims)` that returns for a vector of similarity scores `sims` the list of all ranked recommendations (n_movies) (from most recommended to least recommended) - in the format list of (mid, score, name) tuple."
      ]
    },
    {
      "cell_type": "code",
      "execution_count": 25,
      "metadata": {
        "id": "VCvnQbxaWMCB"
      },
      "outputs": [],
      "source": [
        "def get_movie_name(mid, movies):\n",
        "  try:\n",
        "    name = movies.loc[movies.movieId == mid].title.values[0]\n",
        "  except:\n",
        "    name = \"Unknown\"\n",
        "  return name\n",
        "\n",
        "\n",
        "def get_sim_scores(mid):\n",
        "  idx = mid_to_idx[mid]\n",
        "  sims = similarity_scores[idx]\n",
        "  return sims\n",
        "\n",
        "def get_ranked_recos(sims):\n",
        "  recos = []\n",
        "  for idx in np.argsort(-sims):\n",
        "    mid = idx_to_mid[idx]\n",
        "    name = get_movie_name(mid, movies)\n",
        "    score = sims[idx]\n",
        "    recos.append((mid, score, name))\n",
        "  return recos\n",
        "\n",
        "def get_recommendations(mid, movies, k):\n",
        "  sim_scores = get_sim_scores(mid)\n",
        "  return get_ranked_recos(sim_scores)[:k]\n"
      ]
    },
    {
      "cell_type": "code",
      "execution_count": 26,
      "metadata": {
        "colab": {
          "base_uri": "https://localhost:8080/"
        },
        "id": "nGxbeIwEWMCC",
        "outputId": "ade8cfa1-37fd-48d7-8529-ee244cc6559f"
      },
      "outputs": [
        {
          "output_type": "execute_result",
          "data": {
            "text/plain": [
              "[(3, 0.9999999, 'Grumpier Old Men (1995)'),\n",
              " (719, 0.63637155, 'Multiplicity (1996)'),\n",
              " (852, 0.61769545, 'Tin Cup (1996)'),\n",
              " (432, 0.60410196, \"City Slickers II: The Legend of Curly's Gold (1994)\"),\n",
              " (252, 0.5790136, 'I.Q. (1994)'),\n",
              " (383, 0.5700361, 'Wyatt Earp (1994)'),\n",
              " (333, 0.5599552, 'Tommy Boy (1995)'),\n",
              " (809, 0.5561594, 'Fled (1996)'),\n",
              " (1409, 0.55322385, 'Michael (1996)'),\n",
              " (802, 0.5472849, 'Phenomenon (1996)')]"
            ]
          },
          "metadata": {},
          "execution_count": 26
        }
      ],
      "source": [
        "get_recommendations(3, movies, 10)"
      ]
    },
    {
      "cell_type": "markdown",
      "metadata": {
        "id": "N2a1QHdXWMCC"
      },
      "source": [
        "If you have extra time, feel free now to improve your recommendation engine!"
      ]
    }
  ],
  "metadata": {
    "kernelspec": {
      "display_name": "Python 3 (ipykernel)",
      "language": "python",
      "name": "python3"
    },
    "language_info": {
      "codemirror_mode": {
        "name": "ipython",
        "version": 3
      },
      "file_extension": ".py",
      "mimetype": "text/x-python",
      "name": "python",
      "nbconvert_exporter": "python",
      "pygments_lexer": "ipython3",
      "version": "3.9.5"
    },
    "toc": {
      "base_numbering": 1,
      "nav_menu": {},
      "number_sections": true,
      "sideBar": true,
      "skip_h1_title": false,
      "title_cell": "Table of Contents",
      "title_sidebar": "Contents",
      "toc_cell": false,
      "toc_position": {},
      "toc_section_display": true,
      "toc_window_display": false
    },
    "colab": {
      "provenance": []
    }
  },
  "nbformat": 4,
  "nbformat_minor": 0
}