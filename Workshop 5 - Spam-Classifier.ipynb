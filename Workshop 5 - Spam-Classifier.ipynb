{
 "cells": [
  {
   "cell_type": "markdown",
   "metadata": {},
   "source": [
    "# 04-Spam-Classifier"
   ]
  },
  {
   "cell_type": "markdown",
   "metadata": {},
   "source": [
    "It's time to make our first real Machine Learning application of NLP: a spam classifier!"
   ]
  },
  {
   "cell_type": "markdown",
   "metadata": {},
   "source": [
    "A spam classifier is a Machine Learning model that classifier texts (email or SMS) into two categories: Spam (1) or legitimate (0).\n",
    "\n",
    "To do that, we will reuse our knowledge: we will apply preprocessing and BOW (Bag Of Words) on a dataset of texts.\n",
    "Then we will use a classifier to predict to which class belong a new email/SMS, based on the BOW."
   ]
  },
  {
   "cell_type": "markdown",
   "metadata": {},
   "source": [
    "First things first: import the needed libraries."
   ]
  },
  {
   "cell_type": "code",
   "execution_count": 2,
   "metadata": {},
   "outputs": [],
   "source": [
    "# Import NLTK and all the needed libraries\n",
    "import nltk\n",
    "import numpy as np\n",
    "import pandas as pd\n",
    "from sklearn.feature_extraction.text import CountVectorizer"
   ]
  },
  {
   "cell_type": "markdown",
   "metadata": {},
   "source": [
    "Load now the dataset in *spam.csv* using pandas. Use the 'latin-1' encoding as loading option."
   ]
  },
  {
   "cell_type": "code",
   "execution_count": 3,
   "metadata": {},
   "outputs": [
    {
     "data": {
      "text/html": [
       "<div>\n",
       "<style scoped>\n",
       "    .dataframe tbody tr th:only-of-type {\n",
       "        vertical-align: middle;\n",
       "    }\n",
       "\n",
       "    .dataframe tbody tr th {\n",
       "        vertical-align: top;\n",
       "    }\n",
       "\n",
       "    .dataframe thead th {\n",
       "        text-align: right;\n",
       "    }\n",
       "</style>\n",
       "<table border=\"1\" class=\"dataframe\">\n",
       "  <thead>\n",
       "    <tr style=\"text-align: right;\">\n",
       "      <th></th>\n",
       "      <th>Class</th>\n",
       "      <th>Message</th>\n",
       "    </tr>\n",
       "  </thead>\n",
       "  <tbody>\n",
       "    <tr>\n",
       "      <th>0</th>\n",
       "      <td>ham</td>\n",
       "      <td>Go until jurong point, crazy.. Available only ...</td>\n",
       "    </tr>\n",
       "    <tr>\n",
       "      <th>1</th>\n",
       "      <td>ham</td>\n",
       "      <td>Ok lar... Joking wif u oni...</td>\n",
       "    </tr>\n",
       "    <tr>\n",
       "      <th>2</th>\n",
       "      <td>spam</td>\n",
       "      <td>Free entry in 2 a wkly comp to win FA Cup fina...</td>\n",
       "    </tr>\n",
       "    <tr>\n",
       "      <th>3</th>\n",
       "      <td>ham</td>\n",
       "      <td>U dun say so early hor... U c already then say...</td>\n",
       "    </tr>\n",
       "    <tr>\n",
       "      <th>4</th>\n",
       "      <td>ham</td>\n",
       "      <td>Nah I don't think he goes to usf, he lives aro...</td>\n",
       "    </tr>\n",
       "  </tbody>\n",
       "</table>\n",
       "</div>"
      ],
      "text/plain": [
       "  Class                                            Message\n",
       "0   ham  Go until jurong point, crazy.. Available only ...\n",
       "1   ham                      Ok lar... Joking wif u oni...\n",
       "2  spam  Free entry in 2 a wkly comp to win FA Cup fina...\n",
       "3   ham  U dun say so early hor... U c already then say...\n",
       "4   ham  Nah I don't think he goes to usf, he lives aro..."
      ]
     },
     "execution_count": 3,
     "metadata": {},
     "output_type": "execute_result"
    }
   ],
   "source": [
    "# TODO: Load the dataset \n",
    "\n",
    "data = pd.read_csv('spam.csv')\n",
    "data.head()"
   ]
  },
  {
   "cell_type": "markdown",
   "metadata": {},
   "source": [
    "As usual, I suggest you to explore a bit this dataset."
   ]
  },
  {
   "cell_type": "code",
   "execution_count": 4,
   "metadata": {
    "scrolled": false
   },
   "outputs": [
    {
     "name": "stdout",
     "output_type": "stream",
     "text": [
      "<class 'pandas.core.frame.DataFrame'>\n",
      "RangeIndex: 5572 entries, 0 to 5571\n",
      "Data columns (total 2 columns):\n",
      " #   Column   Non-Null Count  Dtype \n",
      "---  ------   --------------  ----- \n",
      " 0   Class    5572 non-null   object\n",
      " 1   Message  5572 non-null   object\n",
      "dtypes: object(2)\n",
      "memory usage: 87.2+ KB\n"
     ]
    }
   ],
   "source": [
    "# TODO: explore the dataset\n",
    "\n",
    "data.info()"
   ]
  },
  {
   "cell_type": "markdown",
   "metadata": {},
   "source": [
    "So as you see we have a column containing the labels, and a column containing the text to classify."
   ]
  },
  {
   "cell_type": "markdown",
   "metadata": {},
   "source": [
    "We will begin by doing the usual preprocessing: tokenization, punctuation removal and lemmatization."
   ]
  },
  {
   "cell_type": "code",
   "execution_count": 7,
   "metadata": {},
   "outputs": [
    {
     "name": "stderr",
     "output_type": "stream",
     "text": [
      "C:\\Users\\dudes\\AppData\\Local\\Temp\\ipykernel_21344\\3031125482.py:11: FutureWarning: The default value of regex will change from True to False in a future version.\n",
      "  data['Message'] = data['Message'].str.replace('[^a-zA-Z0-9]','')\n"
     ]
    },
    {
     "name": "stdout",
     "output_type": "stream",
     "text": [
      "0       [GountiljurongpointcrazyAvailableonlyinbugisng...\n",
      "1                                    [OklarJokingwifuoni]\n",
      "2       [Freeentryin2awklycomptowinFACupfinaltkts21stM...\n",
      "3                     [UdunsaysoearlyhorUcalreadythensay]\n",
      "4       [NahIdontthinkhegoestousfhelivesaroundherethough]\n",
      "                              ...                        \n",
      "5567    [Thisisthe2ndtimewehavetried2contactuUhavewont...\n",
      "5568                        [Willbgoingtoesplanadefrhome]\n",
      "5569          [PitywasinmoodforthatSoanyothersuggestions]\n",
      "5570    [TheguydidsomebitchingbutIactedlikeidbeinteres...\n",
      "5571                               [RoflItstruetoitsname]\n",
      "Name: tokens, Length: 5572, dtype: object\n"
     ]
    }
   ],
   "source": [
    "# TODO: Perform preprocessing over all the text\n",
    "\n",
    "from nltk.tokenize import word_tokenize\n",
    "from nltk.stem import WordNetLemmatizer\n",
    "\n",
    "lemmatizer = WordNetLemmatizer()\n",
    "def lemmatize_txt(text):\n",
    "    return[lemmatizer.lemmatize(w) for w in text]\n",
    "\n",
    "\n",
    "data['Message'] = data['Message'].str.replace('[^a-zA-Z0-9]','')\n",
    "data['tokens'] = data['Message'].apply(word_tokenize)\n",
    "data['tokens'] = data['tokens'].apply(lemmatize_txt)\n",
    "\n",
    "print(data['tokens'])"
   ]
  },
  {
   "cell_type": "markdown",
   "metadata": {},
   "source": [
    "Ok now we have our preprocessed data. Next step is to do a BOW."
   ]
  },
  {
   "cell_type": "code",
   "execution_count": 8,
   "metadata": {},
   "outputs": [],
   "source": [
    "# TODO: compute the BOW\n",
    "\n",
    "from sklearn.feature_extraction.text import CountVectorizer\n",
    "\n",
    "vectorize = CountVectorizer(stop_words = 'english')\n",
    "\n",
    "bow = vectorize.fit_transform(data['Message']).toarray()"
   ]
  },
  {
   "cell_type": "markdown",
   "metadata": {},
   "source": [
    "Then make a new dataframe as usual to have a visual idea of the words used and their frequencies."
   ]
  },
  {
   "cell_type": "code",
   "execution_count": 14,
   "metadata": {},
   "outputs": [
    {
     "data": {
      "text/html": [
       "<div>\n",
       "<style scoped>\n",
       "    .dataframe tbody tr th:only-of-type {\n",
       "        vertical-align: middle;\n",
       "    }\n",
       "\n",
       "    .dataframe tbody tr th {\n",
       "        vertical-align: top;\n",
       "    }\n",
       "\n",
       "    .dataframe thead th {\n",
       "        text-align: right;\n",
       "    }\n",
       "</style>\n",
       "<table border=\"1\" class=\"dataframe\">\n",
       "  <thead>\n",
       "    <tr style=\"text-align: right;\">\n",
       "      <th></th>\n",
       "      <th>07732584351rodgerburnsmsgwetriedtocallyoureyourreplytooursmsforafreenokiamobilefreecamcorderpleasecallnow08000930705fordeliverytomorrow</th>\n",
       "      <th>08714712388between10am7pmcost10p</th>\n",
       "      <th>09066362231urgentyourmobileno07xxxxxxxxxwona2000bonuscallerprizeon020603thisisthe2ndattempttoreachyoucall09066362231asap</th>\n",
       "      <th>0anetworksallowcompaniestobillforsmssotheyareresponsiblefortheirsuppliersjustasashophastogiveaguaranteeonwhattheysellbg</th>\n",
       "      <th>1000sflirtingnowtxtgirlorblokeurnameageeggirlzoe18to8007tojoinandgetchatting</th>\n",
       "      <th>1000sofgirlsmanylocal2uwhorvirgins2thisrready24filureverysexualneedcanu4filtheirstextcuteto69911150pm</th>\n",
       "      <th>100datingservicecall09064012103box334sk38ch</th>\n",
       "      <th>10minlaterk</th>\n",
       "      <th>120thatcallcostwhichiguessisntbadmissyaneedyawantyaloveya</th>\n",
       "      <th>123congratulationsinthisweekscompetitiondrawuhavewonthe1450prizetoclaimjustcall09050002311b4280703tcsstopsms08718727868over18only150ppm</th>\n",
       "      <th>...</th>\n",
       "      <th>yupok</th>\n",
       "      <th>yupokigohomelookatthetimingsthenimsgagainxuhuigoingtolearnon2ndmaytoobutherlessonisat8am</th>\n",
       "      <th>yupokthanx</th>\n",
       "      <th>yupsongbronocreativenevatestqualityhesaidcheckreviewonline</th>\n",
       "      <th>yupthkofuosoboringwat</th>\n",
       "      <th>yupwunbelievewatureallynevacemsgisentshuhui</th>\n",
       "      <th>yupziveoredibookedslots4myweekendsliao</th>\n",
       "      <th>ywantogotherecdoctor</th>\n",
       "      <th>ywhereuatdogbreathitsjustsoundinglikejancthatsal</th>\n",
       "      <th>zoeitjusthitme2imfuckingshitinmyselfildefotrymyhardest2cum2morowluvumillionslekdog</th>\n",
       "    </tr>\n",
       "  </thead>\n",
       "  <tbody>\n",
       "    <tr>\n",
       "      <th>0</th>\n",
       "      <td>0</td>\n",
       "      <td>0</td>\n",
       "      <td>0</td>\n",
       "      <td>0</td>\n",
       "      <td>0</td>\n",
       "      <td>0</td>\n",
       "      <td>0</td>\n",
       "      <td>0</td>\n",
       "      <td>0</td>\n",
       "      <td>0</td>\n",
       "      <td>...</td>\n",
       "      <td>0</td>\n",
       "      <td>0</td>\n",
       "      <td>0</td>\n",
       "      <td>0</td>\n",
       "      <td>0</td>\n",
       "      <td>0</td>\n",
       "      <td>0</td>\n",
       "      <td>0</td>\n",
       "      <td>0</td>\n",
       "      <td>0</td>\n",
       "    </tr>\n",
       "    <tr>\n",
       "      <th>1</th>\n",
       "      <td>0</td>\n",
       "      <td>0</td>\n",
       "      <td>0</td>\n",
       "      <td>0</td>\n",
       "      <td>0</td>\n",
       "      <td>0</td>\n",
       "      <td>0</td>\n",
       "      <td>0</td>\n",
       "      <td>0</td>\n",
       "      <td>0</td>\n",
       "      <td>...</td>\n",
       "      <td>0</td>\n",
       "      <td>0</td>\n",
       "      <td>0</td>\n",
       "      <td>0</td>\n",
       "      <td>0</td>\n",
       "      <td>0</td>\n",
       "      <td>0</td>\n",
       "      <td>0</td>\n",
       "      <td>0</td>\n",
       "      <td>0</td>\n",
       "    </tr>\n",
       "    <tr>\n",
       "      <th>2</th>\n",
       "      <td>0</td>\n",
       "      <td>0</td>\n",
       "      <td>0</td>\n",
       "      <td>0</td>\n",
       "      <td>0</td>\n",
       "      <td>0</td>\n",
       "      <td>0</td>\n",
       "      <td>0</td>\n",
       "      <td>0</td>\n",
       "      <td>0</td>\n",
       "      <td>...</td>\n",
       "      <td>0</td>\n",
       "      <td>0</td>\n",
       "      <td>0</td>\n",
       "      <td>0</td>\n",
       "      <td>0</td>\n",
       "      <td>0</td>\n",
       "      <td>0</td>\n",
       "      <td>0</td>\n",
       "      <td>0</td>\n",
       "      <td>0</td>\n",
       "    </tr>\n",
       "    <tr>\n",
       "      <th>3</th>\n",
       "      <td>0</td>\n",
       "      <td>0</td>\n",
       "      <td>0</td>\n",
       "      <td>0</td>\n",
       "      <td>0</td>\n",
       "      <td>0</td>\n",
       "      <td>0</td>\n",
       "      <td>0</td>\n",
       "      <td>0</td>\n",
       "      <td>0</td>\n",
       "      <td>...</td>\n",
       "      <td>0</td>\n",
       "      <td>0</td>\n",
       "      <td>0</td>\n",
       "      <td>0</td>\n",
       "      <td>0</td>\n",
       "      <td>0</td>\n",
       "      <td>0</td>\n",
       "      <td>0</td>\n",
       "      <td>0</td>\n",
       "      <td>0</td>\n",
       "    </tr>\n",
       "    <tr>\n",
       "      <th>4</th>\n",
       "      <td>0</td>\n",
       "      <td>0</td>\n",
       "      <td>0</td>\n",
       "      <td>0</td>\n",
       "      <td>0</td>\n",
       "      <td>0</td>\n",
       "      <td>0</td>\n",
       "      <td>0</td>\n",
       "      <td>0</td>\n",
       "      <td>0</td>\n",
       "      <td>...</td>\n",
       "      <td>0</td>\n",
       "      <td>0</td>\n",
       "      <td>0</td>\n",
       "      <td>0</td>\n",
       "      <td>0</td>\n",
       "      <td>0</td>\n",
       "      <td>0</td>\n",
       "      <td>0</td>\n",
       "      <td>0</td>\n",
       "      <td>0</td>\n",
       "    </tr>\n",
       "  </tbody>\n",
       "</table>\n",
       "<p>5 rows × 5123 columns</p>\n",
       "</div>"
      ],
      "text/plain": [
       "   07732584351rodgerburnsmsgwetriedtocallyoureyourreplytooursmsforafreenokiamobilefreecamcorderpleasecallnow08000930705fordeliverytomorrow  \\\n",
       "0                                                  0                                                                                         \n",
       "1                                                  0                                                                                         \n",
       "2                                                  0                                                                                         \n",
       "3                                                  0                                                                                         \n",
       "4                                                  0                                                                                         \n",
       "\n",
       "   08714712388between10am7pmcost10p  \\\n",
       "0                                 0   \n",
       "1                                 0   \n",
       "2                                 0   \n",
       "3                                 0   \n",
       "4                                 0   \n",
       "\n",
       "   09066362231urgentyourmobileno07xxxxxxxxxwona2000bonuscallerprizeon020603thisisthe2ndattempttoreachyoucall09066362231asap  \\\n",
       "0                                                  0                                                                          \n",
       "1                                                  0                                                                          \n",
       "2                                                  0                                                                          \n",
       "3                                                  0                                                                          \n",
       "4                                                  0                                                                          \n",
       "\n",
       "   0anetworksallowcompaniestobillforsmssotheyareresponsiblefortheirsuppliersjustasashophastogiveaguaranteeonwhattheysellbg  \\\n",
       "0                                                  0                                                                         \n",
       "1                                                  0                                                                         \n",
       "2                                                  0                                                                         \n",
       "3                                                  0                                                                         \n",
       "4                                                  0                                                                         \n",
       "\n",
       "   1000sflirtingnowtxtgirlorblokeurnameageeggirlzoe18to8007tojoinandgetchatting  \\\n",
       "0                                                  0                              \n",
       "1                                                  0                              \n",
       "2                                                  0                              \n",
       "3                                                  0                              \n",
       "4                                                  0                              \n",
       "\n",
       "   1000sofgirlsmanylocal2uwhorvirgins2thisrready24filureverysexualneedcanu4filtheirstextcuteto69911150pm  \\\n",
       "0                                                  0                                                       \n",
       "1                                                  0                                                       \n",
       "2                                                  0                                                       \n",
       "3                                                  0                                                       \n",
       "4                                                  0                                                       \n",
       "\n",
       "   100datingservicecall09064012103box334sk38ch  10minlaterk  \\\n",
       "0                                            0            0   \n",
       "1                                            0            0   \n",
       "2                                            0            0   \n",
       "3                                            0            0   \n",
       "4                                            0            0   \n",
       "\n",
       "   120thatcallcostwhichiguessisntbadmissyaneedyawantyaloveya  \\\n",
       "0                                                  0           \n",
       "1                                                  0           \n",
       "2                                                  0           \n",
       "3                                                  0           \n",
       "4                                                  0           \n",
       "\n",
       "   123congratulationsinthisweekscompetitiondrawuhavewonthe1450prizetoclaimjustcall09050002311b4280703tcsstopsms08718727868over18only150ppm  \\\n",
       "0                                                  0                                                                                         \n",
       "1                                                  0                                                                                         \n",
       "2                                                  0                                                                                         \n",
       "3                                                  0                                                                                         \n",
       "4                                                  0                                                                                         \n",
       "\n",
       "   ...  yupok  \\\n",
       "0  ...      0   \n",
       "1  ...      0   \n",
       "2  ...      0   \n",
       "3  ...      0   \n",
       "4  ...      0   \n",
       "\n",
       "   yupokigohomelookatthetimingsthenimsgagainxuhuigoingtolearnon2ndmaytoobutherlessonisat8am  \\\n",
       "0                                                  0                                          \n",
       "1                                                  0                                          \n",
       "2                                                  0                                          \n",
       "3                                                  0                                          \n",
       "4                                                  0                                          \n",
       "\n",
       "   yupokthanx  yupsongbronocreativenevatestqualityhesaidcheckreviewonline  \\\n",
       "0           0                                                  0            \n",
       "1           0                                                  0            \n",
       "2           0                                                  0            \n",
       "3           0                                                  0            \n",
       "4           0                                                  0            \n",
       "\n",
       "   yupthkofuosoboringwat  yupwunbelievewatureallynevacemsgisentshuhui  \\\n",
       "0                      0                                            0   \n",
       "1                      0                                            0   \n",
       "2                      0                                            0   \n",
       "3                      0                                            0   \n",
       "4                      0                                            0   \n",
       "\n",
       "   yupziveoredibookedslots4myweekendsliao  ywantogotherecdoctor  \\\n",
       "0                                       0                     0   \n",
       "1                                       0                     0   \n",
       "2                                       0                     0   \n",
       "3                                       0                     0   \n",
       "4                                       0                     0   \n",
       "\n",
       "   ywhereuatdogbreathitsjustsoundinglikejancthatsal  \\\n",
       "0                                                 0   \n",
       "1                                                 0   \n",
       "2                                                 0   \n",
       "3                                                 0   \n",
       "4                                                 0   \n",
       "\n",
       "   zoeitjusthitme2imfuckingshitinmyselfildefotrymyhardest2cum2morowluvumillionslekdog  \n",
       "0                                                  0                                   \n",
       "1                                                  0                                   \n",
       "2                                                  0                                   \n",
       "3                                                  0                                   \n",
       "4                                                  0                                   \n",
       "\n",
       "[5 rows x 5123 columns]"
      ]
     },
     "execution_count": 14,
     "metadata": {},
     "output_type": "execute_result"
    }
   ],
   "source": [
    "# TODO: Make a new dataframe with the BOW\n",
    "\n",
    "df_bow = pd.DataFrame(data=bow, columns = vectorize.get_feature_names_out())\n",
    "\n",
    "df_bow.head()"
   ]
  },
  {
   "cell_type": "markdown",
   "metadata": {},
   "source": [
    "Let's check what is the most used word in the spam category and the non spam category.\n",
    "\n",
    "There are two steps: first add the class to the BOW dataframe. Second, filter on a class, sum all the values and print the most frequent one."
   ]
  },
  {
   "cell_type": "code",
   "execution_count": 15,
   "metadata": {},
   "outputs": [
    {
     "name": "stdout",
     "output_type": "stream",
     "text": [
      "most frequent spam word : camerayouareawardedasipixdigitalcameracall09061221066frommlandlinedeliverywithin28days\n",
      "most frequent non spam word : sorryillcalllater\n"
     ]
    }
   ],
   "source": [
    "# TODO: print the most used word in the spam and non spam category\n",
    "\n",
    "tmp = df_bow\n",
    "\n",
    "tmp['Class'] = data['Class']\n",
    "\n",
    "most_frequent_spam = tmp[tmp['Class'] == 'spam'].drop(columns='Class').sum().idxmax()\n",
    "most_frequent_non_spam = tmp[tmp['Class'] == 'ham'].drop(columns='Class').sum().idxmax()\n",
    "\n",
    "print('most frequent spam word :',most_frequent_spam )\n",
    "print('most frequent non spam word :',most_frequent_non_spam )"
   ]
  },
  {
   "cell_type": "markdown",
   "metadata": {},
   "source": [
    "You should find that the most frequent spam word is 'free', not so surprising, right?"
   ]
  },
  {
   "cell_type": "markdown",
   "metadata": {},
   "source": [
    "Now we can make a classifier based on our BOW. We will use a simple logistic regression here for the example.\n",
    "\n",
    "You're an expert, you know what to do, right? Split the data, train your model, predict and see the performance."
   ]
  },
  {
   "cell_type": "code",
   "execution_count": 23,
   "metadata": {},
   "outputs": [
    {
     "name": "stdout",
     "output_type": "stream",
     "text": [
      "[0 0 1 ... 0 0 0]\n",
      "Accuracy Score : 0.8654708520179372\n",
      "Precision Score : 0.0\n"
     ]
    }
   ],
   "source": [
    "# TODO: Perform a classification to predict whether a message is a spam or not\n",
    "\n",
    "from sklearn.svm import SVC\n",
    "from sklearn.linear_model import LogisticRegression\n",
    "from sklearn.model_selection import train_test_split\n",
    "from sklearn.metrics import accuracy_score\n",
    "from sklearn import preprocessing\n",
    "from sklearn.metrics import precision_score\n",
    "\n",
    "le = preprocessing.LabelEncoder()\n",
    "le.fit(data['Class'])\n",
    "\n",
    "print(le.transform(data['Class']))\n",
    "\n",
    "train_x, test_x, train_y, test_y = train_test_split(df_bow.drop(columns='Class'), le.transform(data['Class']), test_size=0.2, random_state=42)\n",
    "\n",
    "classifier = LogisticRegression()\n",
    "\n",
    "classifier.fit(train_x, train_y)\n",
    "\n",
    "predict = classifier.predict(test_x)\n",
    "\n",
    "acc_score = accuracy_score(predict, test_y)\n",
    "prec_score = precision_score(predict, test_y)\n",
    "print('Accuracy Score :', acc_score)\n",
    "print('Precision Score :', prec_score)"
   ]
  },
  {
   "cell_type": "markdown",
   "metadata": {},
   "source": [
    "What precision do you get? Check by hand on some samples where it did predict well to check what could go wrong\n",
    "\n",
    "The Accuracy score of the model is 0.865\n",
    "The precision score of the model is 0\n",
    "\n",
    "Try to use other models and try to improve your results."
   ]
  },
  {
   "cell_type": "code",
   "execution_count": null,
   "metadata": {},
   "outputs": [],
   "source": []
  }
 ],
 "metadata": {
  "kernelspec": {
   "display_name": "Python 3 (ipykernel)",
   "language": "python",
   "name": "python3"
  },
  "language_info": {
   "codemirror_mode": {
    "name": "ipython",
    "version": 3
   },
   "file_extension": ".py",
   "mimetype": "text/x-python",
   "name": "python",
   "nbconvert_exporter": "python",
   "pygments_lexer": "ipython3",
   "version": "3.11.3"
  },
  "toc": {
   "base_numbering": 1,
   "nav_menu": {},
   "number_sections": true,
   "sideBar": true,
   "skip_h1_title": false,
   "title_cell": "Table of Contents",
   "title_sidebar": "Contents",
   "toc_cell": false,
   "toc_position": {},
   "toc_section_display": true,
   "toc_window_display": false
  }
 },
 "nbformat": 4,
 "nbformat_minor": 2
}
